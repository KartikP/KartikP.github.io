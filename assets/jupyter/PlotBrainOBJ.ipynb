{
  "nbformat": 4,
  "nbformat_minor": 0,
  "metadata": {
    "colab": {
      "provenance": []
    },
    "kernelspec": {
      "name": "python3",
      "display_name": "Python 3"
    },
    "language_info": {
      "name": "python"
    }
  },
  "cells": [
    {
      "cell_type": "code",
      "execution_count": 1,
      "metadata": {
        "id": "fycdo0NbXgIW"
      },
      "outputs": [],
      "source": [
        "# @title\n",
        "import plotly.graph_objects as go\n",
        "import numpy as np"
      ]
    },
    {
      "cell_type": "code",
      "source": [
        "brain = \"/content/drive/MyDrive/Data Science/MRI/brain.obj\""
      ],
      "metadata": {
        "id": "KVaPoaN2XoFP"
      },
      "execution_count": null,
      "outputs": []
    },
    {
      "cell_type": "code",
      "source": [
        "# Function to read the .obj file\n",
        "def read_obj(filename):\n",
        "    vertices = []\n",
        "    faces = []\n",
        "\n",
        "    with open(filename, 'r') as file:\n",
        "        for line in file:\n",
        "            if line.startswith('v '):\n",
        "                vertices.append(list(map(float, line.strip().split()[1:])))\n",
        "            elif line.startswith('f'):\n",
        "                face = [int(i.split('/')[0]) for i in line.strip().split()[1:]]\n",
        "                faces.append(face)\n",
        "\n",
        "    return np.array(vertices), np.array(faces)"
      ],
      "metadata": {
        "id": "8yTLj77-Xvz4"
      },
      "execution_count": null,
      "outputs": []
    },
    {
      "cell_type": "code",
      "source": [
        "vertices, faces = read_obj(brain)"
      ],
      "metadata": {
        "id": "3-fHG3l5Xzh8"
      },
      "execution_count": null,
      "outputs": []
    },
    {
      "cell_type": "code",
      "source": [
        "vertices"
      ],
      "metadata": {
        "colab": {
          "base_uri": "https://localhost:8080/"
        },
        "id": "2g0Av59wX4xb",
        "outputId": "48e7518a-d82d-4e4c-f468-5ba7e9f7763e"
      },
      "execution_count": null,
      "outputs": [
        {
          "output_type": "execute_result",
          "data": {
            "text/plain": [
              "array([[  50.666779,  -28.194384,  -21.338442],\n",
              "       [  50.121082,  -27.810968,  -20.198452],\n",
              "       [   3.378802, -100.455139,    4.870674],\n",
              "       ...,\n",
              "       [ -12.782207,   66.600349,   16.896309],\n",
              "       [ -13.962158,   66.610062,   17.925493],\n",
              "       [ -10.211386,   31.746548,   -1.28224 ]])"
            ]
          },
          "metadata": {},
          "execution_count": 6
        }
      ]
    },
    {
      "cell_type": "code",
      "source": [
        "faces"
      ],
      "metadata": {
        "colab": {
          "base_uri": "https://localhost:8080/"
        },
        "id": "574FznP9X6N7",
        "outputId": "5c72c633-c0fd-4cf2-d5dd-869d66320964"
      },
      "execution_count": null,
      "outputs": [
        {
          "output_type": "execute_result",
          "data": {
            "text/plain": [
              "array([[34663, 28109, 28500],\n",
              "       [ 3049, 15445, 37208],\n",
              "       [ 1154,     1,     2],\n",
              "       ...,\n",
              "       [50243, 51376, 44998],\n",
              "       [70636, 50891, 69542],\n",
              "       [49939, 70369, 74995]])"
            ]
          },
          "metadata": {},
          "execution_count": 7
        }
      ]
    },
    {
      "cell_type": "code",
      "source": [
        "# Create a mesh object\n",
        "pl_mygrey=[0, 'rgb(153, 153, 153)'], [1., 'rgb(255,255,255)']\n",
        "\n",
        "mesh = go.Mesh3d(\n",
        "    x=vertices[:,0],\n",
        "    y=vertices[:,1],\n",
        "    z=vertices[:,2],\n",
        "    intensity=vertices[:,2],\n",
        "    i=faces[:,0]-1,\n",
        "    j=faces[:,1]-1,\n",
        "    k=faces[:,2]-1,\n",
        "    colorscale=pl_mygrey,\n",
        "    showscale=False\n",
        ")\n",
        "mesh.update(cmin=-7,\n",
        "               lighting=dict(ambient=0.18,\n",
        "                             diffuse=1,\n",
        "                             fresnel=0.1,\n",
        "                             specular=1,\n",
        "                             roughness=0.05,\n",
        "                             facenormalsepsilon=1e-15,\n",
        "                             vertexnormalsepsilon=1e-15),\n",
        "               lightposition=dict(x=100,\n",
        "                                  y=200,\n",
        "                                  z=0\n",
        "                                 )\n",
        "                      );\n"
      ],
      "metadata": {
        "id": "AQL_yxaKX-rM"
      },
      "execution_count": null,
      "outputs": []
    },
    {
      "cell_type": "code",
      "source": [
        "# Create a figure and add the mesh object to it\n",
        "fig = go.Figure(data=[mesh])\n",
        "camera = dict(\n",
        "    eye=dict(x=5, y=1.5, z=0)  # Adjust these values as needed\n",
        ")\n",
        "fig.update_layout(\n",
        "    scene=dict(\n",
        "        xaxis=dict(\n",
        "            showbackground=False,\n",
        "            showgrid=False,\n",
        "            zeroline=False,\n",
        "            showticklabels=False,\n",
        "            showline=False,\n",
        "            title=''  # Remove the x-axis label\n",
        "        ),\n",
        "        yaxis=dict(\n",
        "            showbackground=False,\n",
        "            showgrid=False,\n",
        "            zeroline=False,\n",
        "            showticklabels=False,\n",
        "            showline=False,\n",
        "            title=''\n",
        "        ),\n",
        "        zaxis=dict(\n",
        "            showbackground=False,\n",
        "            showgrid=False,\n",
        "            zeroline=False,\n",
        "            showticklabels=False,\n",
        "            showline=False,\n",
        "            title=''\n",
        "        ),\n",
        "        camera=camera\n",
        "    ),\n",
        "    margin=dict(r=0, l=0, b=0, t=0),  # Removes white margins around the plot\n",
        "    paper_bgcolor='rgba(0,0,0,0)',  # Set the background color of the paper to transparent\n",
        "    plot_bgcolor='rgba(0,0,0,0)'    # Set the background color of the plot to transparent\n",
        ")\n",
        "fig.show()\n",
        "fig.write_html('/content/drive/MyDrive/Data Science/MRI/brain.html')"
      ],
      "metadata": {
        "id": "FBYKU68nTfdy"
      },
      "execution_count": null,
      "outputs": []
    },
    {
      "cell_type": "markdown",
      "source": [
        "## Subplots containing a variety of different views of the .nii to .obj conversion."
      ],
      "metadata": {
        "id": "9xnZweQxu39c"
      }
    },
    {
      "cell_type": "code",
      "source": [
        "import plotly.graph_objects as go\n",
        "from plotly.subplots import make_subplots\n",
        "import numpy as np"
      ],
      "metadata": {
        "id": "_EL9uhuzvOTW"
      },
      "execution_count": null,
      "outputs": []
    },
    {
      "cell_type": "code",
      "source": [
        "face = \"/content/drive/MyDrive/Data Science/MRI/nii2mesh_sub-009_T1w.obj\"\n",
        "T7_raw = \"/content/drive/MyDrive/Data Science/MRI/nii2mesh_7T.obj\"\n",
        "T7_white = \"/content/drive/MyDrive/Data Science/MRI/nii2mesh_c2_KP_anatomical.obj\"\n",
        "T7_gray = \"/content/drive/MyDrive/Data Science/MRI/nii2mesh_c1_KP_anatomical.obj\"\n",
        "T7_csf = \"/content/drive/MyDrive/Data Science/MRI/nii2mesh_c3_KP_anatomical.obj\"\n",
        "\n",
        "# Default camera settings\n",
        "camera = dict(\n",
        "    eye=dict(x=3, y=1.5, z=0)  # Adjust these values as needed\n",
        ")"
      ],
      "metadata": {
        "id": "n-lKmtSVu88p"
      },
      "execution_count": null,
      "outputs": []
    },
    {
      "cell_type": "code",
      "source": [
        "# Function to read the .obj file\n",
        "def read_obj(filename):\n",
        "    vertices = []\n",
        "    faces = []\n",
        "\n",
        "    with open(filename, 'r') as file:\n",
        "        for line in file:\n",
        "            if line.startswith('v '):\n",
        "                vertices.append(list(map(float, line.strip().split()[1:])))\n",
        "            elif line.startswith('f'):\n",
        "                face = [int(i.split('/')[0]) for i in line.strip().split()[1:]]\n",
        "                faces.append(face)\n",
        "\n",
        "    return np.array(vertices), np.array(faces)"
      ],
      "metadata": {
        "id": "9AL1SKx6vzBY"
      },
      "execution_count": null,
      "outputs": []
    },
    {
      "cell_type": "markdown",
      "source": [
        "## 3T Face and 7T raw"
      ],
      "metadata": {
        "id": "m_W_AE640HFD"
      }
    },
    {
      "cell_type": "code",
      "source": [
        "face_vertices, face_faces = read_obj(face)\n",
        "T7_raw_vertices, T7_raw_faces = read_obj(T7_raw)\n",
        "# Create a mesh object\n",
        "pl_mygrey=[0, 'rgb(153, 153, 153)'], [1., 'rgb(255,255,255)']\n",
        "\n",
        "face_mesh = go.Mesh3d(\n",
        "    x=face_vertices[:,0],\n",
        "    y=face_vertices[:,1],\n",
        "    z=face_vertices[:,2],\n",
        "    intensity=face_vertices[:,2],\n",
        "    i=face_faces[:,0]-1,\n",
        "    j=face_faces[:,1]-1,\n",
        "    k=face_faces[:,2]-1,\n",
        "    colorscale=pl_mygrey,\n",
        "    showscale=False\n",
        ")\n",
        "T7_raw_mesh = go.Mesh3d(\n",
        "    x=T7_raw_vertices[:,0],\n",
        "    y=T7_raw_vertices[:,1],\n",
        "    z=T7_raw_vertices[:,2],\n",
        "    intensity=T7_raw_vertices[:,2],\n",
        "    i=T7_raw_faces[:,0]-1,\n",
        "    j=T7_raw_faces[:,1]-1,\n",
        "    k=T7_raw_faces[:,2]-1,\n",
        "    colorscale=pl_mygrey,\n",
        "    showscale=False\n",
        ")\n",
        "\n",
        "face_mesh.update(cmin=-3.3109,\n",
        "               lighting=dict(ambient=0.18,\n",
        "                             diffuse=1,\n",
        "                             fresnel=0.1,\n",
        "                             specular=1,\n",
        "                             roughness=0.05,\n",
        "                             facenormalsepsilon=1e-15,\n",
        "                             vertexnormalsepsilon=1e-15),\n",
        "               lightposition=dict(x=100,\n",
        "                                  y=200,\n",
        "                                  z=0\n",
        "                                 )\n",
        "                      );\n",
        "T7_raw_mesh.update(cmin=-3.31909,\n",
        "               lighting=dict(ambient=0.18,\n",
        "                             diffuse=1,\n",
        "                             fresnel=0.1,\n",
        "                             specular=1,\n",
        "                             roughness=0.05,\n",
        "                             facenormalsepsilon=1e-15,\n",
        "                             vertexnormalsepsilon=1e-15),\n",
        "               lightposition=dict(x=100,\n",
        "                                  y=200,\n",
        "                                  z=0\n",
        "                                 )\n",
        "                      );"
      ],
      "metadata": {
        "id": "_xg1zq-uvrlB"
      },
      "execution_count": null,
      "outputs": []
    },
    {
      "cell_type": "code",
      "source": [
        "# Create a figure and add the mesh object to it\n",
        "fig = make_subplots(\n",
        "    rows=1, cols=2,\n",
        "    specs=[[{'type': 'mesh3d'}, {'type': 'mesh3d'}]],\n",
        "    horizontal_spacing=0.02  # Adjust the spacing as needed\n",
        ")\n",
        "\n",
        "fig.add_trace(face_mesh, row=1, col=1)\n",
        "fig.add_trace(T7_raw_mesh, row=1, col=2)\n",
        "\n",
        "\n",
        "axis_settings = dict(\n",
        "    showbackground=False,\n",
        "    showgrid=False,\n",
        "    zeroline=False,\n",
        "    showticklabels=False,\n",
        "    showline=False,\n",
        "    title=\"\"\n",
        ")\n",
        "\n",
        "# Add titles as 3D text\n",
        "fig.add_trace(go.Scatter3d(\n",
        "    x=[np.mean(face_vertices[:,0])],\n",
        "    y=[np.mean(face_vertices[:,1])],\n",
        "    z=[np.max(face_vertices[:,2]) * 1.2],  # Position above the highest point of the mesh\n",
        "    text=[\"Face (from separate 3T)\"],\n",
        "    mode=\"text\",\n",
        "), row=1, col=1)\n",
        "\n",
        "fig.add_trace(go.Scatter3d(\n",
        "    x=[np.mean(T7_raw_vertices[:,0])],\n",
        "    y=[np.mean(T7_raw_vertices[:,1])],\n",
        "    z=[np.max(T7_raw_vertices[:,2]) * 1.2],  # Position above the highest point of the mesh\n",
        "    text=[\"Skulled stripped (7T)\"],\n",
        "    mode=\"text\",\n",
        "), row=1, col=2)\n",
        "\n",
        "fig.update_layout(\n",
        "    scene=dict(\n",
        "        xaxis=axis_settings,\n",
        "        yaxis=axis_settings,\n",
        "        zaxis=axis_settings,\n",
        "        camera=camera\n",
        "    ),\n",
        "    scene2=dict(\n",
        "        xaxis=axis_settings,\n",
        "        yaxis=axis_settings,\n",
        "        zaxis=axis_settings,\n",
        "        camera=camera\n",
        "    ),\n",
        "    margin=dict(r=0, l=0, b=0, t=0),\n",
        "    paper_bgcolor='rgba(0,0,0,0)',\n",
        "    plot_bgcolor='rgba(0,0,0,0)',\n",
        "    showlegend=False\n",
        ")\n",
        "\n",
        "fig.show()\n",
        "fig.write_html('/content/drive/MyDrive/Data Science/MRI/face_raw.html')"
      ],
      "metadata": {
        "id": "JLY9cZCKv102"
      },
      "execution_count": null,
      "outputs": []
    },
    {
      "cell_type": "markdown",
      "source": [
        "## 7T white and gray matter, and CSF"
      ],
      "metadata": {
        "id": "dZ525eSp0LLk"
      }
    },
    {
      "cell_type": "code",
      "source": [
        "white_vertices, white_faces = read_obj(T7_white)\n",
        "gray_vertices, gray_faces = read_obj(T7_gray)\n",
        "csf_vertices, csf_faces = read_obj(T7_csf)\n",
        "\n",
        "# Create a mesh object\n",
        "pl_mygrey=[0, 'rgb(153, 153, 153)'], [1., 'rgb(255,255,255)']\n",
        "\n",
        "white_mesh = go.Mesh3d(\n",
        "    x=white_vertices[:,0],\n",
        "    y=white_vertices[:,1],\n",
        "    z=white_vertices[:,2],\n",
        "    intensity=white_vertices[:,2],\n",
        "    i=white_faces[:,0]-1,\n",
        "    j=white_faces[:,1]-1,\n",
        "    k=white_faces[:,2]-1,\n",
        "    colorscale=pl_mygrey,\n",
        "    showscale=False\n",
        ")\n",
        "gray_mesh = go.Mesh3d(\n",
        "    x=gray_vertices[:,0],\n",
        "    y=gray_vertices[:,1],\n",
        "    z=gray_vertices[:,2],\n",
        "    intensity=gray_vertices[:,2],\n",
        "    i=gray_faces[:,0]-1,\n",
        "    j=gray_faces[:,1]-1,\n",
        "    k=gray_faces[:,2]-1,\n",
        "    colorscale=pl_mygrey,\n",
        "    showscale=False\n",
        ")\n",
        "csf_mesh = go.Mesh3d(\n",
        "    x=csf_vertices[:,0],\n",
        "    y=csf_vertices[:,1],\n",
        "    z=csf_vertices[:,2],\n",
        "    intensity=csf_vertices[:,2],\n",
        "    i=csf_faces[:,0]-1,\n",
        "    j=csf_faces[:,1]-1,\n",
        "    k=csf_faces[:,2]-1,\n",
        "    colorscale=pl_mygrey,\n",
        "    showscale=False\n",
        ")\n",
        "\n",
        "white_mesh.update(cmin=-3.3109,\n",
        "               lighting=dict(ambient=0.18,\n",
        "                             diffuse=1,\n",
        "                             fresnel=0.1,\n",
        "                             specular=1,\n",
        "                             roughness=0.05,\n",
        "                             facenormalsepsilon=1e-15,\n",
        "                             vertexnormalsepsilon=1e-15),\n",
        "               lightposition=dict(x=100,\n",
        "                                  y=200,\n",
        "                                  z=0\n",
        "                                 )\n",
        "                      );\n",
        "gray_mesh.update(cmin=-3.31909,\n",
        "               lighting=dict(ambient=0.18,\n",
        "                             diffuse=1,\n",
        "                             fresnel=0.1,\n",
        "                             specular=1,\n",
        "                             roughness=0.05,\n",
        "                             facenormalsepsilon=1e-15,\n",
        "                             vertexnormalsepsilon=1e-15),\n",
        "               lightposition=dict(x=100,\n",
        "                                  y=200,\n",
        "                                  z=0\n",
        "                                 )\n",
        "                      );\n",
        "csf_mesh.update(cmin=-3.31909,\n",
        "               lighting=dict(ambient=0.18,\n",
        "                             diffuse=1,\n",
        "                             fresnel=0.1,\n",
        "                             specular=1,\n",
        "                             roughness=0.05,\n",
        "                             facenormalsepsilon=1e-15,\n",
        "                             vertexnormalsepsilon=1e-15),\n",
        "               lightposition=dict(x=100,\n",
        "                                  y=200,\n",
        "                                  z=0\n",
        "                                 )\n",
        "                      );"
      ],
      "metadata": {
        "id": "xb4_OuXT0OWr"
      },
      "execution_count": null,
      "outputs": []
    },
    {
      "cell_type": "code",
      "source": [
        "# Create a figure and add the mesh object to it\n",
        "fig = make_subplots(\n",
        "    rows=1, cols=3,\n",
        "    specs=[[{'type': 'mesh3d'}, {'type': 'mesh3d'}, {'type': 'mesh3d'}]],\n",
        "    horizontal_spacing=0.02  # Adjust the spacing as needed\n",
        ")\n",
        "\n",
        "fig.add_trace(white_mesh, row=1, col=1)\n",
        "fig.add_trace(gray_mesh, row=1, col=2)\n",
        "fig.add_trace(csf_mesh, row=1, col=3)\n",
        "\n",
        "\n",
        "axis_settings = dict(\n",
        "    showbackground=False,\n",
        "    showgrid=False,\n",
        "    zeroline=False,\n",
        "    showticklabels=False,\n",
        "    showline=False,\n",
        "    title=\"\"\n",
        ")\n",
        "\n",
        "# Add titles as 3D text\n",
        "fig.add_trace(go.Scatter3d(\n",
        "    x=[np.mean(white_vertices[:,0])],\n",
        "    y=[np.mean(white_vertices[:,1])],\n",
        "    z=[np.max(white_vertices[:,2]) * 1.2],  # Position above the highest point of the mesh\n",
        "    text=[\"White matter (7T)\"],\n",
        "    mode=\"text\",\n",
        "), row=1, col=1)\n",
        "\n",
        "fig.add_trace(go.Scatter3d(\n",
        "    x=[np.mean(gray_vertices[:,0])],\n",
        "    y=[np.mean(gray_vertices[:,1])],\n",
        "    z=[np.max(gray_vertices[:,2]) * 1.2],  # Position above the highest point of the mesh\n",
        "    text=[\"Gray matter (7T)\"],\n",
        "    mode=\"text\",\n",
        "), row=1, col=2)\n",
        "\n",
        "fig.add_trace(go.Scatter3d(\n",
        "    x=[np.mean(csf_vertices[:,0])],\n",
        "    y=[np.mean(csf_vertices[:,1])],\n",
        "    z=[np.max(csf_vertices[:,2]) * 1.2],  # Position above the highest point of the mesh\n",
        "    text=[\"CSF (7T)\"],\n",
        "    mode=\"text\",\n",
        "), row=1, col=3)\n",
        "\n",
        "fig.update_layout(\n",
        "    scene=dict(\n",
        "        xaxis=axis_settings,\n",
        "        yaxis=axis_settings,\n",
        "        zaxis=axis_settings,\n",
        "        camera=camera\n",
        "    ),\n",
        "    scene2=dict(\n",
        "        xaxis=axis_settings,\n",
        "        yaxis=axis_settings,\n",
        "        zaxis=axis_settings,\n",
        "        camera=camera\n",
        "    ),\n",
        "      scene3=dict(\n",
        "        xaxis=axis_settings,\n",
        "        yaxis=axis_settings,\n",
        "        zaxis=axis_settings,\n",
        "        camera=camera\n",
        "    ),\n",
        "    margin=dict(r=0, l=0, b=0, t=0),\n",
        "    paper_bgcolor='rgba(0,0,0,0)',\n",
        "    plot_bgcolor='rgba(0,0,0,0)',\n",
        "    showlegend=False\n",
        ")\n",
        "\n",
        "fig.show()\n",
        "fig.write_html('/content/drive/MyDrive/Data Science/MRI/white_gray_csf.html')"
      ],
      "metadata": {
        "id": "GnYaEYid2p3a"
      },
      "execution_count": null,
      "outputs": []
    }
  ]
}